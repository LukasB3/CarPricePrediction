{
 "cells": [
  {
   "cell_type": "code",
   "execution_count": 1,
   "metadata": {},
   "outputs": [],
   "source": [
    "import pandas as pd\n",
    "import matplotlib.pyplot as plt\n",
    "\n",
    "df = pd.read_csv(\"data/autoscout24-germany-dataset.csv\")"
   ]
  },
  {
   "cell_type": "code",
   "execution_count": 2,
   "metadata": {},
   "outputs": [],
   "source": [
    "df = df.dropna() "
   ]
  },
  {
   "cell_type": "code",
   "execution_count": 3,
   "metadata": {},
   "outputs": [],
   "source": [
    "def drop_make(df, column='make', threshold=25, drop_value=['Porsche', 'Aston']):\n",
    "    df_filtered = df.groupby(column).filter(lambda x: len(x) >= threshold)\n",
    "    df_filtered = df_filtered[~df_filtered[column].isin(drop_value)]\n",
    "    return df_filtered\n",
    "\n",
    "df = drop_make(df)"
   ]
  },
  {
   "cell_type": "code",
   "execution_count": 4,
   "metadata": {},
   "outputs": [],
   "source": [
    "def drop_model(df, column='model', threshold=5):\n",
    "    df_filtered = df.groupby(column).filter(lambda x: len(x) >= threshold)\n",
    "    return df_filtered\n",
    "\n",
    "df = drop_model(df)"
   ]
  },
  {
   "cell_type": "code",
   "execution_count": 5,
   "metadata": {},
   "outputs": [],
   "source": [
    "df = df[df['fuel'].isin(['Gasoline', 'Diesel'])]"
   ]
  },
  {
   "cell_type": "code",
   "execution_count": 6,
   "metadata": {},
   "outputs": [],
   "source": [
    "df = df[df['gear'].isin(['Manual', 'Automatic'])]"
   ]
  },
  {
   "cell_type": "code",
   "execution_count": 7,
   "metadata": {},
   "outputs": [],
   "source": [
    "df = df.drop('offerType', axis=1)\n",
    "df = df.drop('hp', axis=1)\n",
    "df = df.drop('gear', axis=1)"
   ]
  },
  {
   "cell_type": "code",
   "execution_count": 8,
   "metadata": {},
   "outputs": [],
   "source": [
    "df = df[df['price'] <= 100000]"
   ]
  },
  {
   "cell_type": "code",
   "execution_count": 9,
   "metadata": {},
   "outputs": [],
   "source": [
    "df = df[df['mileage'] <= 300000]"
   ]
  },
  {
   "cell_type": "code",
   "execution_count": 10,
   "metadata": {},
   "outputs": [],
   "source": [
    "from sklearn.preprocessing import OneHotEncoder\n",
    "from sklearn.compose import ColumnTransformer\n",
    "\n",
    "\n",
    "X = df.drop(columns=['price'])\n",
    "y = df['price']\n",
    "\n",
    "categorical_columns = ['make', 'model', 'fuel']\n",
    "\n",
    "preprocessor = ColumnTransformer(\n",
    "    transformers=[\n",
    "        ('cat', OneHotEncoder(), categorical_columns)\n",
    "    ],\n",
    "    remainder='passthrough'\n",
    ")\n",
    "X_processed = preprocessor.fit_transform(X)\n",
    "\n",
    "one_hot_encoders = preprocessor.named_transformers_['cat']"
   ]
  },
  {
   "cell_type": "code",
   "execution_count": 11,
   "metadata": {},
   "outputs": [
    {
     "name": "stdout",
     "output_type": "stream",
     "text": [
      "Fitting 3 folds for each of 8 candidates, totalling 24 fits\n"
     ]
    }
   ],
   "source": [
    "from sklearn.model_selection import train_test_split\n",
    "from sklearn.ensemble import RandomForestRegressor\n",
    "from sklearn.model_selection import GridSearchCV\n",
    "\n",
    "X_train, X_test, y_train, y_test = train_test_split(X_processed, y, test_size=0.2, random_state=42)\n",
    "regressor = RandomForestRegressor(random_state=42)\n",
    "\n",
    "param_grid = {\n",
    "    'n_estimators': [50],\n",
    "    'max_depth': [None, 5, 10],\n",
    "    'min_samples_split': [2, 5],\n",
    "    'min_samples_leaf': [1, 3]\n",
    "}\n",
    "\n",
    "grid_search = GridSearchCV(regressor, param_grid, cv=3, n_jobs=-1, verbose=1)\n",
    "\n",
    "grid_search.fit(X_train, y_train)\n",
    "\n",
    "model = grid_search.best_estimator_"
   ]
  },
  {
   "cell_type": "code",
   "execution_count": null,
   "metadata": {},
   "outputs": [],
   "source": [
    "print(\"Best parameters found: \", grid_search.best_params_)\n",
    "print(\"Best score found: \", grid_search.best_score_)"
   ]
  },
  {
   "cell_type": "code",
   "execution_count": 12,
   "metadata": {},
   "outputs": [
    {
     "name": "stdout",
     "output_type": "stream",
     "text": [
      "Mean Squared Error: 3863.0596885210143\n",
      "R^2 Score: 0.891761547045046\n"
     ]
    }
   ],
   "source": [
    "from sklearn.metrics import mean_squared_error, r2_score\n",
    "import numpy as np\n",
    "\n",
    "y_pred = model.predict(X_test)\n",
    "\n",
    "mse = mean_squared_error(y_test, y_pred)\n",
    "r2 = r2_score(y_test, y_pred)\n",
    "\n",
    "print(\"Mean Squared Error:\", np.sqrt(mse))\n",
    "print(\"R^2 Score:\", r2)"
   ]
  },
  {
   "cell_type": "code",
   "execution_count": 13,
   "metadata": {},
   "outputs": [
    {
     "name": "stdout",
     "output_type": "stream",
     "text": [
      "\n",
      "Feature Importances:\n",
      "year: 0.3657515912219595\n",
      "model: 0.25684136061650703\n",
      "make: 0.22538208722669043\n",
      "mileage: 0.10174981400985797\n",
      "fuel: 0.05027514692498501\n"
     ]
    }
   ],
   "source": [
    "importances = model.feature_importances_ \n",
    "\n",
    "make_importance = sum(importances[:len(one_hot_encoders.categories_[0])])\n",
    "model_importance = sum(importances[len(one_hot_encoders.categories_[0]):len(one_hot_encoders.categories_[0]) + len(one_hot_encoders.categories_[1])])\n",
    "fuel_importance = sum(importances[len(one_hot_encoders.categories_[0]) + len(one_hot_encoders.categories_[1]):-2])\n",
    "\n",
    "mileage_importance = importances[-2]\n",
    "year_importance = importances[-1]\n",
    "\n",
    "feature_importances = [\n",
    "    ('mileage', mileage_importance),\n",
    "    ('make', make_importance),\n",
    "    ('model', model_importance),\n",
    "    ('fuel', fuel_importance),\n",
    "    ('year', year_importance)\n",
    "]\n",
    "\n",
    "sorted_feature_importances = sorted(feature_importances, key=lambda x: x[1], reverse=True)\n",
    "\n",
    "print(\"\\nFeature Importances:\")\n",
    "for feature, importance in sorted_feature_importances:\n",
    "    print(f\"{feature}: {importance}\")"
   ]
  },
  {
   "cell_type": "code",
   "execution_count": 14,
   "metadata": {},
   "outputs": [],
   "source": [
    "import pickle\n",
    "\n",
    "data = {\n",
    "    \"model\": model,\n",
    "    \"preprocessor\": preprocessor\n",
    "}\n",
    "\n",
    "with open('saved_model.pkl', 'wb') as file:\n",
    "    pickle.dump(data, file)"
   ]
  }
 ],
 "metadata": {
  "kernelspec": {
   "display_name": "car_price",
   "language": "python",
   "name": "python3"
  },
  "language_info": {
   "codemirror_mode": {
    "name": "ipython",
    "version": 3
   },
   "file_extension": ".py",
   "mimetype": "text/x-python",
   "name": "python",
   "nbconvert_exporter": "python",
   "pygments_lexer": "ipython3",
   "version": "3.11.0"
  },
  "orig_nbformat": 4
 },
 "nbformat": 4,
 "nbformat_minor": 2
}
